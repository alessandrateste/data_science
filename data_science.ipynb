{
 "cells": [
  {
   "cell_type": "code",
   "execution_count": null,
   "metadata": {},
   "outputs": [],
   "source": [
    "'''Python Insights - Analisando Dados com Python\n",
    "Case - Cancelamento de Clientes\n",
    "Você foi contratado por uma empresa com mais de 800 mil clientes para um projeto de Dados. Recentemente a empresa percebeu que da sua base total de clientes, a maioria são clientes inativos, ou seja, que já cancelaram o serviço.\n",
    "\n",
    "Precisando melhorar seus resultados ela quer conseguir entender os principais motivos desses cancelamentos e quais as ações mais eficientes para reduzir esse número.\n",
    "\n",
    "Base de dados e arquivos: https://drive.google.com/drive/folders/1uDesZePdkhiraJmiyeZ-w5tfc8XsNYFZ?usp=drive_link'''\n",
    "'''obs: irei usar a estrutura do jupiter para consiguir executar meus codigos por blocos, para isso:Novo arquivo-> criar com extensão .ipynb \n",
    "o passso a passo do meu trabalho de analise de dados será:\n",
    "lembre-se um projeto de analise de dados sempre vira como um desafio, ex, porque será que os meus clientes estão cancelamento\n",
    "1-Importar base de dados\n",
    "2-Visualizar a base de dados\n",
    "3- Corregir erros da base de dados\n",
    "#verrificar valores vacios, \n",
    "#ver colunas que não tem sentido manter na minha base de dados\n",
    "4- Primeira analise de cancelamento dos clientes\n",
    "# entender o tanto de cancelamento que tenho\n",
    "#relacionar as colunas verificando de acordo com a coluna cancelmento\n",
    "5-Através dos graficos entender os motivos que levaram os clientes cancelarem\n",
    "'''\n",
    "\"\"\"\" posso instalar bibliotecas direto na minha area de código, desde que seja a IDEA do jupiter, contudo para instalar faço assim\n",
    "! install...\n",
    "posso instalar mais de uma biblioteca ao mesmo tempo\n",
    "\n",
    "\"\"\"\""
   ]
  },
  {
   "cell_type": "code",
   "execution_count": null,
   "metadata": {},
   "outputs": [],
   "source": [
    "import pandas as pd\n",
    "\n",
    "tabela = pd.read_csv(\"cancelamentos.csv\")\n",
    "tabela = tabela.drop(\"CustomerID\", axis=1)#axis=1 -> para indicar que quero a coluna inteira\n",
    "display(tabela)# poderia usar o print, display é mais bonito"
   ]
  },
  {
   "cell_type": "code",
   "execution_count": null,
   "metadata": {},
   "outputs": [],
   "source": [
    "tabela = tabela.dropna()# -> retira valores vazios da tb\n",
    "display(tabela.info())#me mostra todos  as informações da tb\n",
    "# quantas pessoas cancelaram e não cancelaram\n",
    "display(tabela[\"cancelou\"].value_counts())# mostra apenas a quantidade de valores que tenho nessa coluna\n",
    "display(tabela[\"cancelou\"].value_counts(normalize=True).map(\"{:.1%}\".format))#mostra o mesmo que em cima, porém o valor vem formatado\n",
    "                                                                             #value_counts-> conta valores\n",
    "                                                                             #normalize=True para fatiar sempre a minha base de dados da mesma forma\n",
    "                                                                             #map-> metodo para iterar uma objeto qualquer(no caso serve para aplicar um metodo que vou escrever dentro do(), e isso vai ser repassado para toda a coluna selecionada)\n",
    "                                                                            #\"{:.1%}\".format-> formatação no caso quero uma casa decimal dps da virgula"
   ]
  },
  {
   "cell_type": "code",
   "execution_count": null,
   "metadata": {},
   "outputs": [],
   "source": [
    "display(tabela[\"duracao_contrato\"].value_counts(normalize=True))\n",
    "display(tabela[\"duracao_contrato\"].value_counts())\n",
    "# analisando o contrato mensal\n",
    "display(tabela.groupby(\"duracao_contrato\").mean(numeric_only=True))#.mean(numeric_only=True-> para calcular a media só de coluna que tenha valores numericos\n",
    "                                                                   #assim não vai dar erro no programa, pois não vai dar erro com as colunas que tenha uma string...\n",
    "                                                                   #groupby(\"duracao_contrato\").mean-> vou agrupar a coluna de acordo com a media\n",
    "\"\"\"\n",
    "duracao_contrato\t\t\t\t\t\t\t\t\n",
    "Annual\t38.842165\t31.446186\t15.880213\t3.263401\t12.465156\t651.697738\t14.236107\t0.460760\n",
    "Monthly\t41.552407\t30.538555\t15.499274\t4.985649\t15.007267\t550.616435\t15.478012\t1.000000\n",
    "Quarterly\t38.830938\t31.419916\t15.886662\t3.265245\t12.460863\t651.427783\t14.234544\t0.460255\n",
    "COM isso vejo que 100% das pessoas cancelam o plano Monthly, pois deu 1 inteiro \"\"\""
   ]
  },
  {
   "cell_type": "code",
   "execution_count": null,
   "metadata": {},
   "outputs": [],
   "source": [
    "#então descobrimos que contrato mensal é ruim, vamos tirar ele e continuar analisando\n",
    "tabela = tabela[tabela[\"duracao_contrato\"]!=\"Monthly\"]# poderia usar o drop, contudo assim tb dá.\n",
    "display(tabela)# só para ver se deu certo, a retirada do plano mensal\n",
    "display(tabela[\"cancelou\"].value_counts())# vai ver se o indice de cancelamento melhorou se o plano mensal\n",
    "display(tabela[\"cancelou\"].value_counts(normalize=True).map(\"{:.1%}\".format))# para formatar o valor de cancelamento a cima.\n",
    "\"\"\"\n",
    "Name: cancelou, dtype: int64\n",
    "0.0    53.9%\n",
    "1.0    46.1%\n",
    "com isso metade das pessoas apenas cancelaram\"\"\"\n"
   ]
  },
  {
   "cell_type": "code",
   "execution_count": null,
   "metadata": {},
   "outputs": [],
   "source": [
    "# verificando como fica o cancelamento de acordo com tipo de assinatura agora que a duração do contrato não tem mais o plano mensanl\n",
    "display(tabela[\"assinatura\"].value_counts(normalize=True))#-> normalize=True p/ estabelecer sempre o mesmo lugar para a base comecar a contar\n",
    "display(tabela.groupby(\"assinatura\").mean(numeric_only=True))# ->.mean(numeric_only=True) p/ para calcular a media tendo apenas a coluna assinatura como base, e calculando a media apenas de valores que são numeros\n",
    "\"\"\"\"\n",
    "idade\ttempo_como_cliente\tfrequencia_uso\tligacoes_callcenter\tdias_atraso\ttotal_gasto\tmeses_ultima_interacao\tcancelou\n",
    "assinatura\t\t\t\t\t\t\t\t\n",
    "Basic\t38.904813\t32.316031\t15.876921\t3.310021\t12.507054\t648.642614\t14.240814\t0.475188\n",
    "Premium\t38.817814\t30.977869\t15.889673\t3.235886\t12.433427\t653.337633\t14.231150\t0.452338\n",
    "Standard\t38.790478\t31.048621\t15.883393\t3.249275\t12.450690\t652.566793\t14.234280\t0.454714\n",
    "Ao rodar o código percebo a media de cancelamento esta muito parecida para todos os tipos de assinatura, 1/3 para cada, ou seja a media de \n",
    "cancelamento para a assitura basic é 1/3, para premium 1/3 e para standard tb 1/3\n",
    "\"\"\"\n",
    "\n",
    "\n",
    "\"\"\"\n",
    "obs:(normalize=True) se não passar este paramentro a minha base toda vez que der um run( rodar o codigo), vai inicia a sua prefisão de um ponto diferente  da minha base de dados,\n",
    "me dadndo sempre valores aleatórios, isso não é bom para a minha prefissão. \n",
    "\n",
    "\"\"\""
   ]
  },
  {
   "cell_type": "code",
   "execution_count": null,
   "metadata": {},
   "outputs": [],
   "source": [
    "# vamos criar gráfico, porque só com números tá difícil de visualizar\n",
    "import plotly.express as px\n",
    "\n",
    "for coluna in tabela.columns:# Criar um loop para analisar as informações de acordo com a coluna cancelamento\n",
    "    grafico = px.histogram(tabela, x=coluna, color=\"cancelou\") \n",
    "    \"\"\"\"obs: p/ criar o grafico passo a x as colunas que quero usar para eixo x do grafico, no caso são todas as colunas,\n",
    "    Y eixo y quem quero usar para comparar, no caso é coluna cancelou\n",
    "\n",
    "    \"\"\"\"\n",
    "    grafico.show()\n",
    "# com os graficos a gente consegue descobrir muita coisa:\n",
    "# dias atraso acima de 20 dias, 100% cancela\n",
    "# ligações call center acima de 5 todo mundo cancela\n"
   ]
  },
  {
   "cell_type": "code",
   "execution_count": null,
   "metadata": {},
   "outputs": [],
   "source": [
    "#Agora que descobrimos tudo isto bora criar uma condicional que atenda a minha necessidade, e ver o quanto, vai reduzir o cancalemento essa condicional\n",
    "tabela = tabela[tabela[\"ligacoes_callcenter\"]<5]\n",
    "tabela = tabela[tabela[\"dias_atraso\"]<=20]\n",
    "display(tabela)\n",
    "display(tabela[\"cancelou\"].value_counts())\n",
    "display(tabela[\"cancelou\"].value_counts(normalize=True).map(\"{:.1%}\".format))\n",
    "\"\"\"com isso  descobrimos que Name: cancelou, dtype: int64\n",
    "0.0    81.6%\n",
    "1.0    18.4%\n",
    "agr apenas 18% dos clientescancelam\"\"\"\n",
    "\"\"\"\"obs:\n",
    "# se resolvermos isso, já caímos para 18% de cancelamento\n",
    "# é claro que 100% é utópico, mas com isso já temos as principais causas (ou talvez 3 das principais):\n",
    "# - forma de contrato mensal\n",
    "# - necessidade de ligações no call center\n",
    "# - atraso no pagamento\n",
    "\n",
    "\"\"\"\"\n"
   ]
  }
 ],
 "metadata": {
  "kernelspec": {
   "display_name": "venv",
   "language": "python",
   "name": "python3"
  },
  "language_info": {
   "name": "python",
   "version": "3.10.6"
  },
  "orig_nbformat": 4
 },
 "nbformat": 4,
 "nbformat_minor": 2
}
